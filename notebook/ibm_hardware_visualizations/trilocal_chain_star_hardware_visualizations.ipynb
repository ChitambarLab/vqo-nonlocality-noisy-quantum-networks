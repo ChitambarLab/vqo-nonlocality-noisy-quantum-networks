{
 "cells": [
  {
   "cell_type": "code",
   "execution_count": 2,
   "id": "ecb3b03a",
   "metadata": {},
   "outputs": [
    {
     "ename": "ImportError",
     "evalue": "cannot import name 'src' from 'context' (/Users/brian/Documents/Grad School/Research/Code/noise_robustness_of_quantum_non-n-locality/script/context.py)",
     "output_type": "error",
     "traceback": [
      "\u001b[0;31m---------------------------------------------------------------------------\u001b[0m",
      "\u001b[0;31mImportError\u001b[0m                               Traceback (most recent call last)",
      "\u001b[0;32m/var/folders/ft/df8cv0rd2pv4tw8tjypjwrx00000gn/T/ipykernel_78418/3619405359.py\u001b[0m in \u001b[0;36m<module>\u001b[0;34m\u001b[0m\n\u001b[1;32m      1\u001b[0m \u001b[0;32mfrom\u001b[0m \u001b[0mcontext\u001b[0m \u001b[0;32mimport\u001b[0m \u001b[0mqnetvo\u001b[0m \u001b[0;32mas\u001b[0m \u001b[0mqnet\u001b[0m\u001b[0;34m\u001b[0m\u001b[0;34m\u001b[0m\u001b[0m\n\u001b[0;32m----> 2\u001b[0;31m \u001b[0;32mfrom\u001b[0m \u001b[0mcontext\u001b[0m \u001b[0;32mimport\u001b[0m \u001b[0msrc\u001b[0m\u001b[0;34m\u001b[0m\u001b[0;34m\u001b[0m\u001b[0m\n\u001b[0m\u001b[1;32m      3\u001b[0m \u001b[0;34m\u001b[0m\u001b[0m\n\u001b[1;32m      4\u001b[0m \u001b[0;32mimport\u001b[0m \u001b[0mmatplotlib\u001b[0m\u001b[0;34m.\u001b[0m\u001b[0mpyplot\u001b[0m \u001b[0;32mas\u001b[0m \u001b[0mplt\u001b[0m\u001b[0;34m\u001b[0m\u001b[0;34m\u001b[0m\u001b[0m\n\u001b[1;32m      5\u001b[0m \u001b[0;32mfrom\u001b[0m \u001b[0mpennylane\u001b[0m \u001b[0;32mimport\u001b[0m \u001b[0mnumpy\u001b[0m \u001b[0;32mas\u001b[0m \u001b[0mnp\u001b[0m\u001b[0;34m\u001b[0m\u001b[0;34m\u001b[0m\u001b[0m\n",
      "\u001b[0;31mImportError\u001b[0m: cannot import name 'src' from 'context' (/Users/brian/Documents/Grad School/Research/Code/noise_robustness_of_quantum_non-n-locality/script/context.py)"
     ]
    }
   ],
   "source": [
    "from context import qnetvo as qnet\n",
    "from context import src\n",
    "\n",
    "import matplotlib.pyplot as plt\n",
    "from pennylane import numpy as np"
   ]
  },
  {
   "cell_type": "code",
   "execution_count": null,
   "id": "d37d7f80",
   "metadata": {},
   "outputs": [],
   "source": [
    "data_path_param_shift = \"../../script/data/ibm_casablanca_simple_trilocal_chain_opt_parameter_shift/\"\n",
    "\n",
    "data_files_param_shift = utilities.get_data_files(data_path_param_shift, r\".*\")\n",
    "param_shift_opt_dicts = [qnet.read_optimization_json(file) for file in data_files_param_shift]\n",
    "print(\"num parameter shift optimizations : \", len(data_files_param_shift))"
   ]
  },
  {
   "cell_type": "code",
   "execution_count": null,
   "id": "512f6f20",
   "metadata": {},
   "outputs": [],
   "source": [
    "prep_nodes = [\n",
    "    qnet.PrepareNode(1, [0, 1], qnet.ghz_state, 0),\n",
    "    qnet.PrepareNode(1, [2, 3], qnet.ghz_state, 0),\n",
    "    qnet.PrepareNode(1, [4, 5], qnet.ghz_state, 0),\n",
    "]\n",
    "meas_nodes = [\n",
    "    qnet.MeasureNode(2, 2, [0], qnet.local_RY, 1),\n",
    "    qnet.MeasureNode(2, 2, [1, 2], qnet.local_RY, 2),\n",
    "    qnet.MeasureNode(2, 2, [3, 4], qnet.local_RY, 2),\n",
    "    qnet.MeasureNode(2, 2, [5], qnet.local_RY, 1),\n",
    "]\n",
    "\n",
    "trilocal_ansatz = qnet.NetworkAnsatz(prep_nodes, meas_nodes)\n",
    "trilocal_cost = qnet.nlocal_chain_cost_22(trilocal_ansatz)"
   ]
  },
  {
   "cell_type": "code",
   "execution_count": null,
   "id": "5c8ec9fe",
   "metadata": {},
   "outputs": [],
   "source": [
    "fig, ax1 = plt.subplots(1, 1, figsize=(6,6))\n",
    "yticks = [0.25,0.5,0.75,1,1.25,1.5]\n",
    "\n",
    "num_samples = 11\n",
    "\n",
    "param_shift_data = utilities.opt_dicts_mean_stderr(param_shift_opt_dicts, num_samples)\n",
    "param_shift_ideal_scores = [\n",
    "    -(trilocal_cost(param_shift_data[\"opt_settings\"][i])) for i in range(num_samples)\n",
    "]\n",
    "\n",
    "ax1.plot(range(num_samples), [np.sqrt(2)]*num_samples, \"-\", label=\"Quantum Bound\")\n",
    "ax1.plot(range(num_samples), [1]*num_samples, \"--\", label=\"Classical Bound\")\n",
    "ax1.plot(range(num_samples), param_shift_ideal_scores, \":d\", markersize=6, label=\"Noiseless Score\")\n",
    "ax1.plot(range(num_samples), param_shift_data[\"max_scores\"], \":.\", markersize=8 , label=\"Max Score\")\n",
    "ax1.errorbar(\n",
    "    range(num_samples),\n",
    "    param_shift_data[\"mean_scores\"],\n",
    "    param_shift_data[\"stderr_scores\"],\n",
    "    linestyle=\":\",\n",
    "    label=\"Mean Score\"\n",
    ")\n",
    "ax1.plot(\n",
    "    range(num_samples),\n",
    "    [param_shift_data[\"mean_theoretical_score\"]] * num_samples,\n",
    "    \"-.\",\n",
    "    label=\"Mean Noisy Optimal\"\n",
    ")\n",
    "\n",
    "# ax1.set_title(\"Parameter Gradient\", size=16)\n",
    "ax1.set_xlabel(\"Epoch\", size=14)\n",
    "ax1.set_ylabel(\"Trilocal Chain Score\", size=14)\n",
    "ax1.set_yticks(yticks)\n",
    "ax1.legend(loc=\"lower right\", fontsize=14)\n",
    "\n",
    "fig.suptitle(\"Trilocal Chain Optimization\\non IBM Hardware\\n\", size=20)\n",
    "plt.show()"
   ]
  },
  {
   "cell_type": "code",
   "execution_count": null,
   "id": "9dab7666",
   "metadata": {},
   "outputs": [],
   "source": []
  }
 ],
 "metadata": {
  "@webio": {
   "lastCommId": null,
   "lastKernelId": null
  },
  "kernelspec": {
   "display_name": "Python 3 (ipykernel)",
   "language": "python",
   "name": "python3"
  },
  "language_info": {
   "codemirror_mode": {
    "name": "ipython",
    "version": 3
   },
   "file_extension": ".py",
   "mimetype": "text/x-python",
   "name": "python",
   "nbconvert_exporter": "python",
   "pygments_lexer": "ipython3",
   "version": "3.8.12"
  }
 },
 "nbformat": 4,
 "nbformat_minor": 5
}
