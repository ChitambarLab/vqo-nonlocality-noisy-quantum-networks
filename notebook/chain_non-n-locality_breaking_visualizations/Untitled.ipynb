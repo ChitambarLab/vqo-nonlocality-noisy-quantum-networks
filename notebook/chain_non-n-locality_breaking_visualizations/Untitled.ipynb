{
 "cells": [
  {
   "cell_type": "code",
   "execution_count": 27,
   "id": "65f08307",
   "metadata": {},
   "outputs": [],
   "source": [
    "import qnetvo as qnet\n",
    "from context import utilities\n",
    "\n",
    "import pennylane as qml\n",
    "\n",
    "import matplotlib.pyplot as plt\n",
    "from pennylane import numpy as np\n",
    "import re\n",
    "from qiskit import IBMQ\n"
   ]
  },
  {
   "cell_type": "code",
   "execution_count": 28,
   "id": "7a161bad",
   "metadata": {},
   "outputs": [],
   "source": [
    "provider = IBMQ.load_account()\n"
   ]
  },
  {
   "cell_type": "code",
   "execution_count": 33,
   "id": "0cba0233",
   "metadata": {},
   "outputs": [
    {
     "ename": "QuantumFunctionError",
     "evalue": "Differentiation method param-shift not recognized. Allowed options are ('best', 'parameter-shift', 'backprop', 'finite-diff', 'device', 'reversible', 'adjoint').",
     "output_type": "error",
     "traceback": [
      "\u001b[0;31m---------------------------------------------------------------------------\u001b[0m",
      "\u001b[0;31mQuantumFunctionError\u001b[0m                      Traceback (most recent call last)",
      "\u001b[0;32m/var/folders/ft/df8cv0rd2pv4tw8tjypjwrx00000gn/T/ipykernel_10988/1405380293.py\u001b[0m in \u001b[0;36m<module>\u001b[0;34m\u001b[0m\n\u001b[1;32m      9\u001b[0m \u001b[0;34m\u001b[0m\u001b[0m\n\u001b[1;32m     10\u001b[0m \u001b[0;34m@\u001b[0m\u001b[0mqml\u001b[0m\u001b[0;34m.\u001b[0m\u001b[0mqnode\u001b[0m\u001b[0;34m(\u001b[0m\u001b[0mibm_dev\u001b[0m\u001b[0;34m,\u001b[0m \u001b[0mdiff_method\u001b[0m\u001b[0;34m=\u001b[0m\u001b[0;34m\"param-shift\"\u001b[0m\u001b[0;34m)\u001b[0m\u001b[0;34m\u001b[0m\u001b[0;34m\u001b[0m\u001b[0m\n\u001b[0;32m---> 11\u001b[0;31m \u001b[0;32mdef\u001b[0m \u001b[0mtest_qnode\u001b[0m\u001b[0;34m(\u001b[0m\u001b[0msettings\u001b[0m\u001b[0;34m)\u001b[0m\u001b[0;34m:\u001b[0m\u001b[0;34m\u001b[0m\u001b[0;34m\u001b[0m\u001b[0m\n\u001b[0m\u001b[1;32m     12\u001b[0m     \u001b[0mqml\u001b[0m\u001b[0;34m.\u001b[0m\u001b[0mArbitraryStatePreparation\u001b[0m\u001b[0;34m(\u001b[0m\u001b[0msettings\u001b[0m\u001b[0;34m,\u001b[0m \u001b[0mwires\u001b[0m\u001b[0;34m=\u001b[0m\u001b[0;34m[\u001b[0m\u001b[0;36m0\u001b[0m\u001b[0;34m,\u001b[0m\u001b[0;36m1\u001b[0m\u001b[0;34m]\u001b[0m\u001b[0;34m)\u001b[0m\u001b[0;34m\u001b[0m\u001b[0;34m\u001b[0m\u001b[0m\n\u001b[1;32m     13\u001b[0m \u001b[0;34m\u001b[0m\u001b[0m\n",
      "\u001b[0;32m~/opt/anaconda3/envs/qnetvo-dev/lib/python3.8/site-packages/pennylane/qnode.py\u001b[0m in \u001b[0;36m__init__\u001b[0;34m(self, func, device, interface, diff_method, expansion_strategy, max_expansion, mode, cache, cachesize, max_diff, **gradient_kwargs)\u001b[0m\n\u001b[1;32m    217\u001b[0m         \u001b[0mself\u001b[0m\u001b[0;34m.\u001b[0m\u001b[0mgradient_kwargs\u001b[0m \u001b[0;34m=\u001b[0m \u001b[0;32mNone\u001b[0m\u001b[0;34m\u001b[0m\u001b[0;34m\u001b[0m\u001b[0m\n\u001b[1;32m    218\u001b[0m \u001b[0;34m\u001b[0m\u001b[0m\n\u001b[0;32m--> 219\u001b[0;31m         \u001b[0mself\u001b[0m\u001b[0;34m.\u001b[0m\u001b[0m_update_gradient_fn\u001b[0m\u001b[0;34m(\u001b[0m\u001b[0;34m)\u001b[0m\u001b[0;34m\u001b[0m\u001b[0;34m\u001b[0m\u001b[0m\n\u001b[0m\u001b[1;32m    220\u001b[0m         \u001b[0mfunctools\u001b[0m\u001b[0;34m.\u001b[0m\u001b[0mupdate_wrapper\u001b[0m\u001b[0;34m(\u001b[0m\u001b[0mself\u001b[0m\u001b[0;34m,\u001b[0m \u001b[0mfunc\u001b[0m\u001b[0;34m)\u001b[0m\u001b[0;34m\u001b[0m\u001b[0;34m\u001b[0m\u001b[0m\n\u001b[1;32m    221\u001b[0m \u001b[0;34m\u001b[0m\u001b[0m\n",
      "\u001b[0;32m~/opt/anaconda3/envs/qnetvo-dev/lib/python3.8/site-packages/pennylane/qnode.py\u001b[0m in \u001b[0;36m_update_gradient_fn\u001b[0;34m(self)\u001b[0m\n\u001b[1;32m    252\u001b[0m             \u001b[0;32mreturn\u001b[0m\u001b[0;34m\u001b[0m\u001b[0;34m\u001b[0m\u001b[0m\n\u001b[1;32m    253\u001b[0m \u001b[0;34m\u001b[0m\u001b[0m\n\u001b[0;32m--> 254\u001b[0;31m         self.gradient_fn, self.gradient_kwargs, self.device = self.get_gradient_fn(\n\u001b[0m\u001b[1;32m    255\u001b[0m             \u001b[0mself\u001b[0m\u001b[0;34m.\u001b[0m\u001b[0m_original_device\u001b[0m\u001b[0;34m,\u001b[0m \u001b[0mself\u001b[0m\u001b[0;34m.\u001b[0m\u001b[0minterface\u001b[0m\u001b[0;34m,\u001b[0m \u001b[0mself\u001b[0m\u001b[0;34m.\u001b[0m\u001b[0mdiff_method\u001b[0m\u001b[0;34m\u001b[0m\u001b[0;34m\u001b[0m\u001b[0m\n\u001b[1;32m    256\u001b[0m         )\n",
      "\u001b[0;32m~/opt/anaconda3/envs/qnetvo-dev/lib/python3.8/site-packages/pennylane/qnode.py\u001b[0m in \u001b[0;36mget_gradient_fn\u001b[0;34m(device, interface, diff_method)\u001b[0m\n\u001b[1;32m    312\u001b[0m \u001b[0;34m\u001b[0m\u001b[0m\n\u001b[1;32m    313\u001b[0m         \u001b[0;32mif\u001b[0m \u001b[0misinstance\u001b[0m\u001b[0;34m(\u001b[0m\u001b[0mdiff_method\u001b[0m\u001b[0;34m,\u001b[0m \u001b[0mstr\u001b[0m\u001b[0;34m)\u001b[0m\u001b[0;34m:\u001b[0m\u001b[0;34m\u001b[0m\u001b[0;34m\u001b[0m\u001b[0m\n\u001b[0;32m--> 314\u001b[0;31m             raise qml.QuantumFunctionError(\n\u001b[0m\u001b[1;32m    315\u001b[0m                 \u001b[0;34mf\"Differentiation method {diff_method} not recognized. Allowed \"\u001b[0m\u001b[0;34m\u001b[0m\u001b[0;34m\u001b[0m\u001b[0m\n\u001b[1;32m    316\u001b[0m                 \u001b[0;34m\"options are ('best', 'parameter-shift', 'backprop', 'finite-diff', 'device', 'reversible', 'adjoint').\"\u001b[0m\u001b[0;34m\u001b[0m\u001b[0;34m\u001b[0m\u001b[0m\n",
      "\u001b[0;31mQuantumFunctionError\u001b[0m: Differentiation method param-shift not recognized. Allowed options are ('best', 'parameter-shift', 'backprop', 'finite-diff', 'device', 'reversible', 'adjoint')."
     ]
    }
   ],
   "source": [
    "dev = qml.device(\"default.qubit\", wires=[0,1])\n",
    "\n",
    "ibm_dev = qml.device(\"qiskit.ibmq\",\n",
    "    wires=[0,1],\n",
    "    shots= 6000,\n",
    "    backend =\"ibmq_qasm_simulator\",\n",
    "    provider=provider\n",
    ")\n",
    "\n",
    "@qml.qnode(ibm_dev, diff_method=\"param-shift\")\n",
    "def test_qnode(settings):\n",
    "    qml.ArbitraryStatePreparation(settings, wires=[0,1])\n",
    "    \n",
    "    return qml.expval(qml.PauliZ(wires=[0]) @ qml.PauliZ(wires=[1]))\n",
    "\n"
   ]
  },
  {
   "cell_type": "code",
   "execution_count": 30,
   "id": "989134b3",
   "metadata": {},
   "outputs": [
    {
     "name": "stdout",
     "output_type": "stream",
     "text": [
      " 0: ──╭RX(0)──╭RY(0)──╭RI(0)──╭RI(0)──╭RX(0)──╭RX(0)──╭┤ ⟨Z ⊗ Z⟩ \n",
      " 1: ──╰RI(0)──╰RI(0)──╰RX(0)──╰RY(0)──╰RX(0)──╰RY(0)──╰┤ ⟨Z ⊗ Z⟩ \n",
      "\n"
     ]
    }
   ],
   "source": [
    "print(qml.draw(test_qnode)([0,0,0,0,0,0]))"
   ]
  },
  {
   "cell_type": "code",
   "execution_count": 31,
   "id": "a04a5b20",
   "metadata": {},
   "outputs": [],
   "source": [
    "def cost(settings):\n",
    "    return -(test_qnode(settings))\n",
    "\n"
   ]
  },
  {
   "cell_type": "code",
   "execution_count": 32,
   "id": "746e9b73",
   "metadata": {},
   "outputs": [
    {
     "name": "stdout",
     "output_type": "stream",
     "text": [
      "iteration :  0 , score :  0.49466666666666664\n",
      "elapsed time :  203.08574676513672\n",
      "iteration :  5 , score :  0.885\n",
      "elapsed time :  241.87627506256104\n",
      "iteration :  10 , score :  0.9846666666666667\n",
      "elapsed time :  46.42234706878662\n",
      "iteration :  15 , score :  0.9983333333333333\n",
      "elapsed time :  77.8572289943695\n"
     ]
    },
    {
     "name": "stderr",
     "output_type": "stream",
     "text": [
      "WARNING:urllib3.connectionpool:Retrying (PostForcelistRetry(total=4, connect=3, read=None, redirect=None, status=None)) after connection broken by 'ProtocolError('Connection aborted.', RemoteDisconnected('Remote end closed connection without response'))': /api/Network/ibm-q/Groups/open/Projects/main/Jobs/61e9d40e1faa0651cf3455da/v/1\n"
     ]
    },
    {
     "data": {
      "text/plain": [
       "{'datetime': '2022-01-20T20:56:54Z',\n",
       " 'opt_score': tensor(0.99966667, requires_grad=True),\n",
       " 'opt_settings': tensor([0.00869472, 0.00866354, 0.01555085, 0.00277175, 0.67063925,\n",
       "         0.85816271], requires_grad=True),\n",
       " 'scores': [tensor(0.49466667, requires_grad=True),\n",
       "  tensor(0.885, requires_grad=True),\n",
       "  tensor(0.98466667, requires_grad=True),\n",
       "  tensor(0.99833333, requires_grad=True),\n",
       "  tensor(0.99966667, requires_grad=True)],\n",
       " 'samples': [0, 5, 10, 15, 20],\n",
       " 'settings_history': [tensor([0.54622806, 0.37969688, 0.87355085, 0.17370509, 0.67123925,\n",
       "          0.85406271], requires_grad=True),\n",
       "  tensor([0.48386139, 0.34029688, 0.75408419, 0.15390509, 0.67100591,\n",
       "          0.85419605], requires_grad=True),\n",
       "  tensor([0.42179472, 0.29909688, 0.64591752, 0.13660509, 0.67170591,\n",
       "          0.85646271], requires_grad=True),\n",
       "  tensor([0.36169472, 0.25509688, 0.54098419, 0.11877175, 0.67227258,\n",
       "          0.85722938], requires_grad=True),\n",
       "  tensor([0.30056139, 0.21113021, 0.44808419, 0.10070509, 0.67187258,\n",
       "          0.85882938], requires_grad=True),\n",
       "  tensor([0.24722806, 0.17416354, 0.36791752, 0.08057175, 0.67097258,\n",
       "          0.85796271], requires_grad=True),\n",
       "  tensor([0.20206139, 0.14103021, 0.30215085, 0.06510509, 0.67033925,\n",
       "          0.85806271], requires_grad=True),\n",
       "  tensor([0.16099472, 0.11749688, 0.24388419, 0.05293842, 0.67100591,\n",
       "          0.85836271], requires_grad=True),\n",
       "  tensor([0.12909472, 0.09686354, 0.19741752, 0.04310509, 0.67100591,\n",
       "          0.85789605], requires_grad=True),\n",
       "  tensor([0.10326139, 0.07649688, 0.15601752, 0.03567175, 0.67037258,\n",
       "          0.85809605], requires_grad=True),\n",
       "  tensor([0.08269472, 0.06013021, 0.12341752, 0.02770509, 0.67023925,\n",
       "          0.85829605], requires_grad=True),\n",
       "  tensor([0.06556139, 0.04736354, 0.10505085, 0.02587175, 0.67070591,\n",
       "          0.85842938], requires_grad=True),\n",
       "  tensor([0.05396139, 0.03816354, 0.08325085, 0.02027175, 0.67040591,\n",
       "          0.85832938], requires_grad=True),\n",
       "  tensor([0.04059472, 0.03189688, 0.06958419, 0.01650509, 0.67067258,\n",
       "          0.85846271], requires_grad=True),\n",
       "  tensor([0.03139472, 0.02323021, 0.05668419, 0.01507175, 0.67057258,\n",
       "          0.85836271], requires_grad=True),\n",
       "  tensor([0.02586139, 0.02043021, 0.04771752, 0.01540509, 0.67057258,\n",
       "          0.85826271], requires_grad=True),\n",
       "  tensor([0.01936139, 0.01853021, 0.04018419, 0.01203842, 0.67063925,\n",
       "          0.85826271], requires_grad=True),\n",
       "  tensor([0.01852806, 0.01803021, 0.03435085, 0.00990509, 0.67080591,\n",
       "          0.85819605], requires_grad=True),\n",
       "  tensor([0.01349472, 0.01593021, 0.02751752, 0.00740509, 0.67073925,\n",
       "          0.85812938], requires_grad=True),\n",
       "  tensor([0.00949472, 0.01359688, 0.01998419, 0.00683842, 0.67067258,\n",
       "          0.85816271], requires_grad=True),\n",
       "  tensor([0.00869472, 0.00866354, 0.01555085, 0.00277175, 0.67063925,\n",
       "          0.85816271], requires_grad=True)],\n",
       " 'step_times': [203.08574676513672,\n",
       "  241.87627506256104,\n",
       "  46.42234706878662,\n",
       "  77.8572289943695,\n",
       "  70.17974495887756],\n",
       " 'step_size': 0.2}"
      ]
     },
     "execution_count": 32,
     "metadata": {},
     "output_type": "execute_result"
    }
   ],
   "source": [
    "qnet.gradient_descent(\n",
    "    cost,\n",
    "    np.random.rand(6),\n",
    "    sample_width = 5,\n",
    "    num_steps = 20,\n",
    "    step_size=0.2\n",
    ")"
   ]
  },
  {
   "cell_type": "code",
   "execution_count": null,
   "id": "ebe12f07",
   "metadata": {},
   "outputs": [],
   "source": []
  }
 ],
 "metadata": {
  "@webio": {
   "lastCommId": null,
   "lastKernelId": null
  },
  "kernelspec": {
   "display_name": "Python 3 (ipykernel)",
   "language": "python",
   "name": "python3"
  },
  "language_info": {
   "codemirror_mode": {
    "name": "ipython",
    "version": 3
   },
   "file_extension": ".py",
   "mimetype": "text/x-python",
   "name": "python",
   "nbconvert_exporter": "python",
   "pygments_lexer": "ipython3",
   "version": "3.8.12"
  }
 },
 "nbformat": 4,
 "nbformat_minor": 5
}
